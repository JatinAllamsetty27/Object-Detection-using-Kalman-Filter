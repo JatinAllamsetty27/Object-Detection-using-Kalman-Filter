{
 "cells": [
  {
   "cell_type": "markdown",
   "metadata": {},
   "source": [
    "<div style=\"border-radius:10px;\n",
    "            border:#0b0265 solid;\n",
    "           background-color:#7777be;\n",
    "           font-size:110%;\n",
    "           letter-spacing:0.5px;\n",
    "            text-align: center\">\n",
    "\n",
    "<center><h1 style=\"padding: 25px 0px; background color:#0077be; font-weight: bold; font-family: Cursive\">\n",
    "Object Detection using Kalman Filter</h1></center>\n",
    "\n",
    "</div>"
   ]
  },
  {
   "cell_type": "markdown",
   "metadata": {},
   "source": [
    "The **Kalman Filter** is a recursive mathematical algorithm used for state estimation, specifically for filtering and smoothing noisy sensor measurements in a dynamic system. It provides an optimal estimate of the true state of a system based on a combination of predicted state and measurements, taking into account uncertainties and noise in both the system dynamics and measurements."
   ]
  },
  {
   "cell_type": "markdown",
   "metadata": {},
   "source": [
    "### Let's see in general what is Kalman Filter in the below example"
   ]
  },
  {
   "cell_type": "code",
   "execution_count": 1,
   "metadata": {},
   "outputs": [],
   "source": [
    "#we create module name kalman filter\n",
    "from kalmanfilter import KalmanFilter"
   ]
  },
  {
   "cell_type": "code",
   "execution_count": 2,
   "metadata": {},
   "outputs": [],
   "source": [
    "#Intialize the kalman filter\n",
    "kf=KalmanFilter()"
   ]
  },
  {
   "cell_type": "code",
   "execution_count": 3,
   "metadata": {},
   "outputs": [],
   "source": [
    "import cv2\n",
    "img=cv2.imread(\"blue_background.webp\")"
   ]
  },
  {
   "cell_type": "code",
   "execution_count": 4,
   "metadata": {},
   "outputs": [],
   "source": [
    "ball1_positions=[(50,100),(100,100),(150,100),(200,100),(250,100),(300,100),(350,100),(400,100),(450,100)]\n",
    "ball2_positions = [(4, 300), (61, 256), (116, 214), (170, 180), (225, 148), (279, 120), (332, 97),\n",
    "         (383, 80), (434, 66), (484, 55), (535, 49), (586, 49), (634, 50),\n",
    "         (683, 58), (731, 69), (778, 82), (824, 101), (870, 124), (917, 148),\n",
    "         (962, 169), (1006, 212), (1051, 249), (1093, 290)]\n",
    "for pt in ball2_positions:\n",
    "    cv2.circle(img,pt,15,(0,20,220),-1)\n",
    "    \n",
    "    predicted=kf.predict(pt[0],pt[1])\n",
    "    #give sea blue colour for predicted\n",
    "    cv2.circle(img,predicted,15,(220,220,0),4)"
   ]
  },
  {
   "cell_type": "code",
   "execution_count": 5,
   "metadata": {},
   "outputs": [
    {
     "name": "stdout",
     "output_type": "stream",
     "text": [
      "(1180, 364)\n",
      "(1223, 401)\n",
      "(1266, 438)\n",
      "(1309, 475)\n",
      "(1352, 512)\n",
      "(1395, 549)\n",
      "(1437, 586)\n",
      "(1479, 622)\n",
      "(1521, 658)\n",
      "(1563, 694)\n"
     ]
    }
   ],
   "source": [
    "for i in range(10):\n",
    "    predicted=kf.predict(predicted[0],predicted[1])\n",
    "    cv2.circle(img,predicted,15,(220,220,0),4)\n",
    "    \n",
    "    print(predicted)"
   ]
  },
  {
   "cell_type": "code",
   "execution_count": 6,
   "metadata": {},
   "outputs": [
    {
     "data": {
      "text/plain": [
       "-1"
      ]
     },
     "execution_count": 6,
     "metadata": {},
     "output_type": "execute_result"
    }
   ],
   "source": [
    "#This will create an image showing trajectory of the prediction\n",
    "cv2.imshow(\"Img\",img)\n",
    "cv2.waitKey(0)"
   ]
  },
  {
   "cell_type": "markdown",
   "metadata": {},
   "source": [
    "### Let's see our actual problerm statement"
   ]
  },
  {
   "cell_type": "markdown",
   "metadata": {},
   "source": [
    "Here, the object we are detecting is Pen \n",
    "I am creating a module named **PenColorDetector** where , I mention all the characteristics of the pen that the machine can identify"
   ]
  },
  {
   "cell_type": "markdown",
   "metadata": {},
   "source": [
    "Then after , I am inserting the video file where, I am executing a controlled hand-off of the pen from one hand to the other. "
   ]
  },
  {
   "cell_type": "code",
   "execution_count": 7,
   "metadata": {},
   "outputs": [],
   "source": [
    "import cv2\n",
    "from PenColorDetector import PenColorDetector\n",
    "from kalmanfilter import KalmanFilter\n",
    "\n",
    "cap = cv2.VideoCapture(\"pen_detectvedio.mp4\")\n",
    "\n",
    "# Load detector\n",
    "od = PenColorDetector()\n",
    "\n",
    "# Load Kalman filter to predict the trajectory\n",
    "kf = KalmanFilter()\n",
    "\n",
    "while True:\n",
    "    ret, frame = cap.read()\n",
    "    if ret is False:\n",
    "        break\n",
    "\n",
    "    pen_box = od.detect(frame)\n",
    "    x, y, x2, y2 = pen_box\n",
    "    cx = int((x + x2) / 2)\n",
    "    cy = int((y + y2) / 2)\n",
    "\n",
    "    predicted = kf.predict(cx, cy)\n",
    "    #cv2.rectangle(frame, (x, y), (x2, y2), (255, 0, 0), 4)\n",
    "    cv2.circle(frame, (cx, cy), 20, (0, 0, 255), 4)                  \n",
    "    cv2.circle(frame, (predicted[0], predicted[1]), 20, (255, 0, 0), 4)\n",
    "\n",
    "    cv2.imshow(\"Frame\", frame)\n",
    "    key = cv2.waitKey(150)\n",
    "    if key == 27:\n",
    "        break"
   ]
  },
  {
   "cell_type": "markdown",
   "metadata": {},
   "source": [
    "In summary, the Kalman Filter is a powerful algorithm that facilitates precise prediction of the future state or outcome of an object. By effectively incorporating system dynamics, noisy measurements, and uncertainties, the Kalman Filter provides accurate estimations, enabling reliable predictions of the object's next state."
   ]
  },
  {
   "cell_type": "code",
   "execution_count": 2,
   "metadata": {},
   "outputs": [],
   "source": [
    "import cv2\n",
    "from PenColorDetector import PenColorDetector\n",
    "from kalmanfilter import KalmanFilter\n",
    "\n",
    "cap = cv2.VideoCapture(\"pen_detectvedio.mp4\")\n",
    "\n",
    "# Load detector\n",
    "od = PenColorDetector()\n",
    "\n",
    "# Load Kalman filter to predict the trajectory\n",
    "kf = KalmanFilter()\n",
    "\n",
    "# Get the original video's frame size and FPS\n",
    "width = int(cap.get(cv2.CAP_PROP_FRAME_WIDTH))\n",
    "height = int(cap.get(cv2.CAP_PROP_FRAME_HEIGHT))\n",
    "fps = cap.get(cv2.CAP_PROP_FPS)\n",
    "\n",
    "# Create a VideoWriter object to save the processed frames\n",
    "output_video = cv2.VideoWriter(\"output_video.mp4\", cv2.VideoWriter_fourcc(*\"mp4v\"), fps, (width, height))\n",
    "\n",
    "while True:\n",
    "    ret, frame = cap.read()\n",
    "    if ret is False:\n",
    "        break\n",
    "\n",
    "    pen_box = od.detect(frame)\n",
    "    x, y, x2, y2 = pen_box\n",
    "    cx = int((x + x2) / 2)\n",
    "    cy = int((y + y2) / 2)\n",
    "\n",
    "    predicted = kf.predict(cx, cy)\n",
    "    cv2.rectangle(frame, (x, y), (x2, y2), (255, 0, 0), 4)\n",
    "    cv2.circle(frame, (cx, cy), 20, (0, 0, 255), 4)                  \n",
    "    cv2.circle(frame, (predicted[0], predicted[1]), 20, (255, 0, 0), 4)\n",
    "\n",
    "    cv2.imshow(\"Frame\", frame)\n",
    "    output_video.write(frame)  # Write the processed frame to the output video\n",
    "\n",
    "    key = cv2.waitKey(150)\n",
    "    if key == 27:\n",
    "        break\n",
    "\n",
    "# Release the resources\n",
    "cap.release()\n",
    "output_video.release()\n",
    "cv2.destroyAllWindows()\n"
   ]
  },
  {
   "cell_type": "code",
   "execution_count": null,
   "metadata": {},
   "outputs": [],
   "source": []
  }
 ],
 "metadata": {
  "kernelspec": {
   "display_name": "Python 3",
   "language": "python",
   "name": "python3"
  },
  "language_info": {
   "codemirror_mode": {
    "name": "ipython",
    "version": 3
   },
   "file_extension": ".py",
   "mimetype": "text/x-python",
   "name": "python",
   "nbconvert_exporter": "python",
   "pygments_lexer": "ipython3",
   "version": "3.8.5"
  }
 },
 "nbformat": 4,
 "nbformat_minor": 4
}
